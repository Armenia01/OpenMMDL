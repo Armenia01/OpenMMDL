{
 "cells": [
  {
   "cell_type": "code",
   "execution_count": 1,
   "metadata": {},
   "outputs": [
    {
     "data": {
      "application/vnd.jupyter.widget-view+json": {
       "model_id": "",
       "version_major": 2,
       "version_minor": 0
      },
      "text/plain": []
     },
     "metadata": {},
     "output_type": "display_data"
    }
   ],
   "source": [
    "from openmmdl.openmmdl_analysis.visualization_functions import visualization"
   ]
  },
  {
   "cell_type": "code",
   "execution_count": 2,
   "metadata": {},
   "outputs": [],
   "source": [
    "filepath = '/mdspace/ndoering/metal_testcase/2/Visualization/' # add the filepath to the directory where openmmdl_analysis outputs are saved\n",
    "ligname = 'NH0' # add the name of the ligand from the original PDB File"
   ]
  },
  {
   "cell_type": "code",
   "execution_count": 3,
   "metadata": {},
   "outputs": [
    {
     "ename": "ValueError",
     "evalue": "The topology and the trajectory files might not contain the same atoms\nThe input topology must contain all atoms even if you want to select a subset of them with atom_indices",
     "output_type": "error",
     "traceback": [
      "\u001b[0;31m---------------------------------------------------------------------------\u001b[0m",
      "\u001b[0;31mValueError\u001b[0m                                Traceback (most recent call last)",
      "File \u001b[0;32m~/miniconda3/envs/openmmdl/lib/python3.10/site-packages/mdtraj/core/trajectory.py:429\u001b[0m, in \u001b[0;36mload\u001b[0;34m(filename_or_filenames, discard_overlapping_frames, **kwargs)\u001b[0m\n\u001b[1;32m    420\u001b[0m \u001b[38;5;28;01mtry\u001b[39;00m:\n\u001b[1;32m    421\u001b[0m     \u001b[38;5;66;03m# this is a little hack that makes calling load() more predictable. since\u001b[39;00m\n\u001b[1;32m    422\u001b[0m     \u001b[38;5;66;03m# most of the loaders take a kwargs \"top\" except for load_hdf5, (since\u001b[39;00m\n\u001b[0;32m   (...)\u001b[0m\n\u001b[1;32m    427\u001b[0m     \u001b[38;5;66;03m#TODO make all the loaders accept a pre parsed topology (top) in order to avoid\u001b[39;00m\n\u001b[1;32m    428\u001b[0m     \u001b[38;5;66;03m#this part and have a more consistent interface and a faster load function\u001b[39;00m\n\u001b[0;32m--> 429\u001b[0m     t \u001b[38;5;241m=\u001b[39m \u001b[43mloader\u001b[49m\u001b[43m(\u001b[49m\u001b[43mtmp_file\u001b[49m\u001b[43m,\u001b[49m\u001b[43m \u001b[49m\u001b[38;5;241;43m*\u001b[39;49m\u001b[38;5;241;43m*\u001b[39;49m\u001b[43mkwargs\u001b[49m\u001b[43m)\u001b[49m\n\u001b[1;32m    431\u001b[0m \u001b[38;5;28;01mexcept\u001b[39;00m \u001b[38;5;167;01mTypeError\u001b[39;00m \u001b[38;5;28;01mas\u001b[39;00m e:\n\u001b[1;32m    432\u001b[0m \n\u001b[1;32m    433\u001b[0m     \u001b[38;5;66;03m#Don't want to intercept legit\u001b[39;00m\n\u001b[1;32m    434\u001b[0m     \u001b[38;5;66;03m#TypeErrors\u001b[39;00m\n",
      "File \u001b[0;32mmdtraj/formats/dcd/dcd.pyx:134\u001b[0m, in \u001b[0;36mmdtraj.formats.dcd.load_dcd\u001b[0;34m()\u001b[0m\n",
      "File \u001b[0;32mmdtraj/formats/dcd/dcd.pyx:140\u001b[0m, in \u001b[0;36mmdtraj.formats.dcd.load_dcd\u001b[0;34m()\u001b[0m\n",
      "File \u001b[0;32mmdtraj/formats/dcd/dcd.pyx:390\u001b[0m, in \u001b[0;36mmdtraj.formats.dcd.DCDTrajectoryFile.read_as_traj\u001b[0;34m()\u001b[0m\n",
      "File \u001b[0;32m~/miniconda3/envs/openmmdl/lib/python3.10/site-packages/mdtraj/core/trajectory.py:1226\u001b[0m, in \u001b[0;36mTrajectory.__init__\u001b[0;34m(self, xyz, topology, time, unitcell_lengths, unitcell_angles)\u001b[0m\n\u001b[1;32m   1225\u001b[0m \u001b[38;5;28mself\u001b[39m\u001b[38;5;241m.\u001b[39mtopology \u001b[38;5;241m=\u001b[39m topology\n\u001b[0;32m-> 1226\u001b[0m \u001b[38;5;28;43mself\u001b[39;49m\u001b[38;5;241;43m.\u001b[39;49m\u001b[43mxyz\u001b[49m \u001b[38;5;241m=\u001b[39m xyz\n\u001b[1;32m   1228\u001b[0m \u001b[38;5;66;03m# _rmsd_traces are the inner product of each centered conformation,\u001b[39;00m\n\u001b[1;32m   1229\u001b[0m \u001b[38;5;66;03m# which are required for computing RMSD. Normally these values are\u001b[39;00m\n\u001b[1;32m   1230\u001b[0m \u001b[38;5;66;03m# calculated on the fly in the cython code (rmsd/_rmsd.pyx), but\u001b[39;00m\n\u001b[0;32m   (...)\u001b[0m\n\u001b[1;32m   1234\u001b[0m \u001b[38;5;66;03m# self._rmsd_traces. This array is populated computed by\u001b[39;00m\n\u001b[1;32m   1235\u001b[0m \u001b[38;5;66;03m# center_conformations, and no other methods should really touch it.\u001b[39;00m\n",
      "File \u001b[0;32m~/miniconda3/envs/openmmdl/lib/python3.10/site-packages/mdtraj/core/trajectory.py:939\u001b[0m, in \u001b[0;36mTrajectory.xyz\u001b[0;34m(self, value)\u001b[0m\n\u001b[1;32m    937\u001b[0m     shape \u001b[38;5;241m=\u001b[39m (\u001b[38;5;28;01mNone\u001b[39;00m, \u001b[38;5;28;01mNone\u001b[39;00m, \u001b[38;5;241m3\u001b[39m)\n\u001b[0;32m--> 939\u001b[0m value \u001b[38;5;241m=\u001b[39m \u001b[43mensure_type\u001b[49m\u001b[43m(\u001b[49m\u001b[43mvalue\u001b[49m\u001b[43m,\u001b[49m\u001b[43m \u001b[49m\u001b[43mnp\u001b[49m\u001b[38;5;241;43m.\u001b[39;49m\u001b[43mfloat32\u001b[49m\u001b[43m,\u001b[49m\u001b[43m \u001b[49m\u001b[38;5;241;43m3\u001b[39;49m\u001b[43m,\u001b[49m\u001b[43m \u001b[49m\u001b[38;5;124;43m'\u001b[39;49m\u001b[38;5;124;43mxyz\u001b[39;49m\u001b[38;5;124;43m'\u001b[39;49m\u001b[43m,\u001b[49m\u001b[43m \u001b[49m\u001b[43mshape\u001b[49m\u001b[38;5;241;43m=\u001b[39;49m\u001b[43mshape\u001b[49m\u001b[43m,\u001b[49m\n\u001b[1;32m    940\u001b[0m \u001b[43m                    \u001b[49m\u001b[43mwarn_on_cast\u001b[49m\u001b[38;5;241;43m=\u001b[39;49m\u001b[38;5;28;43;01mFalse\u001b[39;49;00m\u001b[43m,\u001b[49m\u001b[43m \u001b[49m\u001b[43madd_newaxis_on_deficient_ndim\u001b[49m\u001b[38;5;241;43m=\u001b[39;49m\u001b[38;5;28;43;01mTrue\u001b[39;49;00m\u001b[43m)\u001b[49m\n\u001b[1;32m    941\u001b[0m \u001b[38;5;28mself\u001b[39m\u001b[38;5;241m.\u001b[39m_xyz \u001b[38;5;241m=\u001b[39m value\n",
      "File \u001b[0;32m~/miniconda3/envs/openmmdl/lib/python3.10/site-packages/mdtraj/utils/validation.py:148\u001b[0m, in \u001b[0;36mensure_type\u001b[0;34m(val, dtype, ndim, name, length, can_be_none, shape, warn_on_cast, add_newaxis_on_deficient_ndim)\u001b[0m\n\u001b[1;32m    146\u001b[0m         \u001b[38;5;28;01mif\u001b[39;00m a \u001b[38;5;241m!=\u001b[39m b:\n\u001b[1;32m    147\u001b[0m             \u001b[38;5;66;03m# check for equality\u001b[39;00m\n\u001b[0;32m--> 148\u001b[0m             \u001b[38;5;28;01mraise\u001b[39;00m error\n\u001b[1;32m    150\u001b[0m \u001b[38;5;28;01mreturn\u001b[39;00m val\n",
      "\u001b[0;31mValueError\u001b[0m: xyz must be shape (Any, 3585, 3). You supplied  (15, 3602, 3)",
      "\nThe above exception was the direct cause of the following exception:\n",
      "\u001b[0;31mValueError\u001b[0m                                Traceback (most recent call last)",
      "Cell \u001b[0;32mIn[3], line 3\u001b[0m\n\u001b[1;32m      1\u001b[0m \u001b[38;5;66;03m# change receptor_type, width and height as needed (preset to protein and 1200x1200)\u001b[39;00m\n\u001b[0;32m----> 3\u001b[0m view \u001b[38;5;241m=\u001b[39m \u001b[43mvisualization\u001b[49m\u001b[43m(\u001b[49m\u001b[43mfilepath\u001b[49m\u001b[43m,\u001b[49m\u001b[43m \u001b[49m\u001b[43mligname\u001b[49m\u001b[43m)\u001b[49m\n\u001b[1;32m      4\u001b[0m view\u001b[38;5;241m.\u001b[39mdisplay(gui\u001b[38;5;241m=\u001b[39m\u001b[38;5;28;01mTrue\u001b[39;00m, style\u001b[38;5;241m=\u001b[39m\u001b[38;5;124m'\u001b[39m\u001b[38;5;124mngl\u001b[39m\u001b[38;5;124m'\u001b[39m)\n",
      "File \u001b[0;32m/mdspace/ndoering/OpenMMDL/openmmdl/openmmdl_analysis/visualization_functions.py:158\u001b[0m, in \u001b[0;36mvisualization\u001b[0;34m(filepath, ligname, receptor_type, height, width)\u001b[0m\n\u001b[1;32m    155\u001b[0m     sphere_buffers\u001b[38;5;241m.\u001b[39mappend(sphere_buffer)\n\u001b[1;32m    157\u001b[0m pdb_structure \u001b[38;5;241m=\u001b[39m md\u001b[38;5;241m.\u001b[39mload(\u001b[38;5;124mf\u001b[39m\u001b[38;5;124m'\u001b[39m\u001b[38;5;132;01m{\u001b[39;00mfilepath\u001b[38;5;132;01m}\u001b[39;00m\u001b[38;5;124minteracting_waters.pdb\u001b[39m\u001b[38;5;124m'\u001b[39m)\n\u001b[0;32m--> 158\u001b[0m dcd_trajectory \u001b[38;5;241m=\u001b[39m \u001b[43mmd\u001b[49m\u001b[38;5;241;43m.\u001b[39;49m\u001b[43mload\u001b[49m\u001b[43m(\u001b[49m\u001b[38;5;124;43mf\u001b[39;49m\u001b[38;5;124;43m'\u001b[39;49m\u001b[38;5;132;43;01m{\u001b[39;49;00m\u001b[43mfilepath\u001b[49m\u001b[38;5;132;43;01m}\u001b[39;49;00m\u001b[38;5;124;43minteracting_waters.dcd\u001b[39;49m\u001b[38;5;124;43m'\u001b[39;49m\u001b[43m,\u001b[49m\u001b[43m \u001b[49m\u001b[43mtop\u001b[49m\u001b[38;5;241;43m=\u001b[39;49m\u001b[43mpdb_structure\u001b[49m\u001b[43m)\u001b[49m\n\u001b[1;32m    159\u001b[0m \u001b[38;5;28;01mwith\u001b[39;00m \u001b[38;5;28mopen\u001b[39m(\u001b[38;5;124mf\u001b[39m\u001b[38;5;124m'\u001b[39m\u001b[38;5;132;01m{\u001b[39;00mfilepath\u001b[38;5;132;01m}\u001b[39;00m\u001b[38;5;124minteracting_waters.pkl\u001b[39m\u001b[38;5;124m'\u001b[39m, \u001b[38;5;124m'\u001b[39m\u001b[38;5;124mrb\u001b[39m\u001b[38;5;124m'\u001b[39m) \u001b[38;5;28;01mas\u001b[39;00m f:\n\u001b[1;32m    160\u001b[0m     interacting_watersids \u001b[38;5;241m=\u001b[39m pickle\u001b[38;5;241m.\u001b[39mload(f)\n",
      "File \u001b[0;32m~/miniconda3/envs/openmmdl/lib/python3.10/site-packages/mdtraj/core/trajectory.py:448\u001b[0m, in \u001b[0;36mload\u001b[0;34m(filename_or_filenames, discard_overlapping_frames, **kwargs)\u001b[0m\n\u001b[1;32m    444\u001b[0m \u001b[38;5;28;01mexcept\u001b[39;00m \u001b[38;5;167;01mValueError\u001b[39;00m \u001b[38;5;28;01mas\u001b[39;00m e:\n\u001b[1;32m    446\u001b[0m     \u001b[38;5;28;01mif\u001b[39;00m \u001b[38;5;124m'\u001b[39m\u001b[38;5;124mxyz must be shape\u001b[39m\u001b[38;5;124m'\u001b[39m \u001b[38;5;129;01min\u001b[39;00m \u001b[38;5;28mstr\u001b[39m(e):\n\u001b[0;32m--> 448\u001b[0m         \u001b[38;5;28;01mraise\u001b[39;00m \u001b[38;5;167;01mValueError\u001b[39;00m(\u001b[38;5;124m'\u001b[39m\u001b[38;5;124mThe topology and the trajectory files might not contain the same atoms\u001b[39m\u001b[38;5;130;01m\\n\u001b[39;00m\u001b[38;5;124m'\u001b[39m\n\u001b[1;32m    449\u001b[0m         \u001b[38;5;124m'\u001b[39m\u001b[38;5;124mThe input topology must contain all atoms even if \u001b[39m\u001b[38;5;124m'\u001b[39m\n\u001b[1;32m    450\u001b[0m         \u001b[38;5;124m'\u001b[39m\u001b[38;5;124myou want to select a subset of them with atom_indices\u001b[39m\u001b[38;5;124m'\u001b[39m\n\u001b[1;32m    451\u001b[0m         ) \u001b[38;5;28;01mfrom\u001b[39;00m \u001b[38;5;21;01me\u001b[39;00m\n\u001b[1;32m    453\u001b[0m     \u001b[38;5;28;01mraise\u001b[39;00m\n\u001b[1;32m    455\u001b[0m trajectories\u001b[38;5;241m.\u001b[39mappend(t)\n",
      "\u001b[0;31mValueError\u001b[0m: The topology and the trajectory files might not contain the same atoms\nThe input topology must contain all atoms even if you want to select a subset of them with atom_indices"
     ]
    }
   ],
   "source": [
    "# change receptor_type, width and height as needed (preset to protein and 1200x1200)\n",
    "\n",
    "view = visualization(filepath, ligname)\n",
    "view.display(gui=True, style='ngl')"
   ]
  },
  {
   "cell_type": "code",
   "execution_count": null,
   "metadata": {},
   "outputs": [],
   "source": []
  }
 ],
 "metadata": {
  "kernelspec": {
   "display_name": "Python 3 (ipykernel)",
   "language": "python",
   "name": "python3"
  },
  "language_info": {
   "codemirror_mode": {
    "name": "ipython",
    "version": 3
   },
   "file_extension": ".py",
   "mimetype": "text/x-python",
   "name": "python",
   "nbconvert_exporter": "python",
   "pygments_lexer": "ipython3",
   "version": "3.10.10"
  },
  "vscode": {
   "interpreter": {
    "hash": "e021570d17280ebc37ed8e9fc470ea25281789feeed8bd826cec564b6552ec2d"
   }
  }
 },
 "nbformat": 4,
 "nbformat_minor": 2
}
